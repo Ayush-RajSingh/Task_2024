{
 "cells": [
  {
   "cell_type": "code",
   "execution_count": 1,
   "id": "8d1223a4-373f-481d-9513-d0961c7ae0e2",
   "metadata": {},
   "outputs": [],
   "source": [
    "import pandas as pd\n",
    "import numpy as np "
   ]
  },
  {
   "cell_type": "code",
   "execution_count": 3,
   "id": "f921765d-e1da-4412-9c7d-304e243c711d",
   "metadata": {},
   "outputs": [],
   "source": [
    "customers_df = 'D:/New folder/customers.csv'\n",
    "products_df = 'D:/New folder/products.csv'\n",
    "returns_df = 'D:/New folder/returns.csv'\n",
    "sales_df = 'D:/New folder/sales.csv'"
   ]
  },
  {
   "cell_type": "code",
   "execution_count": 5,
   "id": "d7dc4ae5-687b-4cb6-b7a7-0f8846741afd",
   "metadata": {},
   "outputs": [],
   "source": [
    "customers = pd.read_csv(customers_df)\n",
    "products = pd.read_csv(products_df)\n",
    "sales = pd.read_csv(sales_df)\n",
    "returns = pd.read_csv(returns_df)"
   ]
  },
  {
   "cell_type": "code",
   "execution_count": 7,
   "id": "00760217-7073-4eb2-9118-ee9af1f16ac1",
   "metadata": {},
   "outputs": [
    {
     "name": "stdout",
     "output_type": "stream",
     "text": [
      "<class 'pandas.core.frame.DataFrame'>\n",
      "RangeIndex: 200 entries, 0 to 199\n",
      "Data columns (total 6 columns):\n",
      " #   Column      Non-Null Count  Dtype \n",
      "---  ------      --------------  ----- \n",
      " 0   CustomerID  200 non-null    int64 \n",
      " 1   Name        200 non-null    object\n",
      " 2   Age         200 non-null    int64 \n",
      " 3   Gender      200 non-null    object\n",
      " 4   Region      200 non-null    object\n",
      " 5   Email       200 non-null    object\n",
      "dtypes: int64(2), object(4)\n",
      "memory usage: 9.5+ KB\n",
      "<class 'pandas.core.frame.DataFrame'>\n",
      "RangeIndex: 50 entries, 0 to 49\n",
      "Data columns (total 5 columns):\n",
      " #   Column         Non-Null Count  Dtype  \n",
      "---  ------         --------------  -----  \n",
      " 0   ProductID      50 non-null     int64  \n",
      " 1   ProductName    50 non-null     object \n",
      " 2   Category       50 non-null     object \n",
      " 3   Price          50 non-null     float64\n",
      " 4   StockQuantity  50 non-null     int64  \n",
      "dtypes: float64(1), int64(2), object(2)\n",
      "memory usage: 2.1+ KB\n",
      "<class 'pandas.core.frame.DataFrame'>\n",
      "RangeIndex: 1000 entries, 0 to 999\n",
      "Data columns (total 6 columns):\n",
      " #   Column       Non-Null Count  Dtype  \n",
      "---  ------       --------------  -----  \n",
      " 0   SaleID       1000 non-null   int64  \n",
      " 1   Date         1000 non-null   object \n",
      " 2   CustomerID   1000 non-null   int64  \n",
      " 3   ProductID    1000 non-null   int64  \n",
      " 4   Quantity     1000 non-null   int64  \n",
      " 5   TotalAmount  1000 non-null   float64\n",
      "dtypes: float64(1), int64(4), object(1)\n",
      "memory usage: 47.0+ KB\n",
      "<class 'pandas.core.frame.DataFrame'>\n",
      "RangeIndex: 150 entries, 0 to 149\n",
      "Data columns (total 4 columns):\n",
      " #   Column      Non-Null Count  Dtype \n",
      "---  ------      --------------  ----- \n",
      " 0   ReturnID    150 non-null    int64 \n",
      " 1   SaleID      150 non-null    int64 \n",
      " 2   ReturnDate  150 non-null    object\n",
      " 3   Reason      150 non-null    object\n",
      "dtypes: int64(2), object(2)\n",
      "memory usage: 4.8+ KB\n"
     ]
    }
   ],
   "source": [
    "customers_info = customers.info()\n",
    "products_info = products.info()\n",
    "sales_info = sales.info()\n",
    "returns_info = returns.info()"
   ]
  },
  {
   "cell_type": "code",
   "execution_count": null,
   "id": "af7f9513-e093-4877-aa63-9e6f55877cf3",
   "metadata": {},
   "outputs": [],
   "source": [
    "customers_head = customers.head()\n",
    "products_head = products.head()\n",
    "sales_head = sales.head()\n",
    "returns_head = returns.head()"
   ]
  },
  {
   "cell_type": "code",
   "execution_count": null,
   "id": "76f714b5-b479-4d68-8ada-52fd1403b948",
   "metadata": {},
   "outputs": [],
   "source": [
    "customers_head"
   ]
  },
  {
   "cell_type": "code",
   "execution_count": null,
   "id": "c534e3a1-f577-48f8-bca2-1bcd4c5f6a21",
   "metadata": {},
   "outputs": [],
   "source": [
    "products_head "
   ]
  },
  {
   "cell_type": "code",
   "execution_count": null,
   "id": "642987b7-9d3e-4553-a036-ee6e33c023b7",
   "metadata": {},
   "outputs": [],
   "source": [
    "sales_head"
   ]
  },
  {
   "cell_type": "code",
   "execution_count": null,
   "id": "65790417-4ea3-45a1-a685-e55a7fd12c2d",
   "metadata": {},
   "outputs": [],
   "source": [
    "returns_head"
   ]
  },
  {
   "cell_type": "code",
   "execution_count": 11,
   "id": "145fb006-64aa-459c-9e37-61f76e9d9787",
   "metadata": {},
   "outputs": [],
   "source": [
    "missing_values = {\n",
    "    \"customers\": customers.isnull().sum(),\n",
    "    \"products\": products.isnull().sum(),\n",
    "    \"returns\": returns.isnull().sum(),\n",
    "    \"sales\": sales.isnull().sum()\n",
    "}\n",
    "missing_values"
   ]
  },
  {
   "cell_type": "code",
   "execution_count": 13,
   "id": "18a35b59-64c6-4710-a6f2-8fa0345b964b",
   "metadata": {},
   "outputs": [
    {
     "name": "stderr",
     "output_type": "stream",
     "text": [
      "C:\\Users\\AYUSH\\AppData\\Local\\Temp\\ipykernel_11356\\493446038.py:2: FutureWarning: DataFrame.fillna with 'method' is deprecated and will raise in a future version. Use obj.ffill() or obj.bfill() instead.\n",
      "  customers.fillna(method='ffill', inplace=True)\n"
     ]
    }
   ],
   "source": [
    "customers.fillna(customers.mean(numeric_only=True), inplace=True)\n",
    "customers.fillna(method='ffill', inplace=True)"
   ]
  },
  {
   "cell_type": "code",
   "execution_count": 17,
   "id": "315fbc6d-1fd5-4474-b101-2704df4d621e",
   "metadata": {},
   "outputs": [],
   "source": [
    "duplicates = {\n",
    "    \"customers\": customers.duplicated().sum(),\n",
    "    \"products\": products.duplicated().sum(),\n",
    "    \"returns\": returns.duplicated().sum(),\n",
    "    \"sales\": sales.duplicated().sum()\n",
    "}\n",
    "duplicates"
   ]
  },
  {
   "cell_type": "code",
   "execution_count": 19,
   "id": "99db2e81-296d-4698-a475-f2f81a960f70",
   "metadata": {},
   "outputs": [
    {
     "data": {
      "text/plain": [
       "({'customers': CustomerID    0\n",
       "  Name          0\n",
       "  Age           0\n",
       "  Gender        0\n",
       "  Region        0\n",
       "  Email         0\n",
       "  dtype: int64,\n",
       "  'products': ProductID        0\n",
       "  ProductName      0\n",
       "  Category         0\n",
       "  Price            0\n",
       "  StockQuantity    0\n",
       "  dtype: int64,\n",
       "  'returns': ReturnID      0\n",
       "  SaleID        0\n",
       "  ReturnDate    0\n",
       "  Reason        0\n",
       "  dtype: int64,\n",
       "  'sales': SaleID         0\n",
       "  Date           0\n",
       "  CustomerID     0\n",
       "  ProductID      0\n",
       "  Quantity       0\n",
       "  TotalAmount    0\n",
       "  dtype: int64},\n",
       " {'customers': 0, 'products': 0, 'returns': 0, 'sales': 0})"
      ]
     },
     "execution_count": 19,
     "metadata": {},
     "output_type": "execute_result"
    }
   ],
   "source": [
    "customers.drop_duplicates(inplace=True)\n",
    "products.drop_duplicates(inplace=True)\n",
    "returns.drop_duplicates(inplace=True)\n",
    "sales.drop_duplicates(inplace=True)\n",
    "\n",
    "(missing_values, duplicates)"
   ]
  },
  {
   "cell_type": "code",
   "execution_count": 29,
   "id": "e96554d2-6426-4305-8096-886da9850544",
   "metadata": {},
   "outputs": [
    {
     "data": {
      "text/html": [
       "<div>\n",
       "<style scoped>\n",
       "    .dataframe tbody tr th:only-of-type {\n",
       "        vertical-align: middle;\n",
       "    }\n",
       "\n",
       "    .dataframe tbody tr th {\n",
       "        vertical-align: top;\n",
       "    }\n",
       "\n",
       "    .dataframe thead th {\n",
       "        text-align: right;\n",
       "    }\n",
       "</style>\n",
       "<table border=\"1\" class=\"dataframe\">\n",
       "  <thead>\n",
       "    <tr style=\"text-align: right;\">\n",
       "      <th></th>\n",
       "      <th>SaleID</th>\n",
       "      <th>Date</th>\n",
       "      <th>CustomerID</th>\n",
       "      <th>ProductID</th>\n",
       "      <th>Quantity</th>\n",
       "      <th>TotalAmount</th>\n",
       "      <th>ProductName</th>\n",
       "      <th>Category</th>\n",
       "      <th>Price</th>\n",
       "      <th>StockQuantity</th>\n",
       "    </tr>\n",
       "  </thead>\n",
       "  <tbody>\n",
       "    <tr>\n",
       "      <th>0</th>\n",
       "      <td>1</td>\n",
       "      <td>2023-09-12</td>\n",
       "      <td>118</td>\n",
       "      <td>1</td>\n",
       "      <td>7</td>\n",
       "      <td>4738.02</td>\n",
       "      <td>Story</td>\n",
       "      <td>Furniture</td>\n",
       "      <td>676.86</td>\n",
       "      <td>499</td>\n",
       "    </tr>\n",
       "    <tr>\n",
       "      <th>1</th>\n",
       "      <td>2</td>\n",
       "      <td>2023-05-12</td>\n",
       "      <td>178</td>\n",
       "      <td>45</td>\n",
       "      <td>9</td>\n",
       "      <td>5574.42</td>\n",
       "      <td>System</td>\n",
       "      <td>Furniture</td>\n",
       "      <td>619.38</td>\n",
       "      <td>13</td>\n",
       "    </tr>\n",
       "    <tr>\n",
       "      <th>2</th>\n",
       "      <td>3</td>\n",
       "      <td>2023-01-22</td>\n",
       "      <td>165</td>\n",
       "      <td>4</td>\n",
       "      <td>9</td>\n",
       "      <td>2620.62</td>\n",
       "      <td>Mission</td>\n",
       "      <td>Furniture</td>\n",
       "      <td>291.18</td>\n",
       "      <td>401</td>\n",
       "    </tr>\n",
       "    <tr>\n",
       "      <th>3</th>\n",
       "      <td>4</td>\n",
       "      <td>2023-09-09</td>\n",
       "      <td>154</td>\n",
       "      <td>47</td>\n",
       "      <td>8</td>\n",
       "      <td>6400.56</td>\n",
       "      <td>Smile</td>\n",
       "      <td>Clothing</td>\n",
       "      <td>800.07</td>\n",
       "      <td>176</td>\n",
       "    </tr>\n",
       "    <tr>\n",
       "      <th>4</th>\n",
       "      <td>5</td>\n",
       "      <td>2023-01-12</td>\n",
       "      <td>165</td>\n",
       "      <td>25</td>\n",
       "      <td>2</td>\n",
       "      <td>930.42</td>\n",
       "      <td>Thank</td>\n",
       "      <td>Clothing</td>\n",
       "      <td>465.21</td>\n",
       "      <td>231</td>\n",
       "    </tr>\n",
       "    <tr>\n",
       "      <th>...</th>\n",
       "      <td>...</td>\n",
       "      <td>...</td>\n",
       "      <td>...</td>\n",
       "      <td>...</td>\n",
       "      <td>...</td>\n",
       "      <td>...</td>\n",
       "      <td>...</td>\n",
       "      <td>...</td>\n",
       "      <td>...</td>\n",
       "      <td>...</td>\n",
       "    </tr>\n",
       "    <tr>\n",
       "      <th>995</th>\n",
       "      <td>996</td>\n",
       "      <td>2023-11-13</td>\n",
       "      <td>110</td>\n",
       "      <td>31</td>\n",
       "      <td>9</td>\n",
       "      <td>2529.81</td>\n",
       "      <td>Operation</td>\n",
       "      <td>Electronics</td>\n",
       "      <td>281.09</td>\n",
       "      <td>47</td>\n",
       "    </tr>\n",
       "    <tr>\n",
       "      <th>996</th>\n",
       "      <td>997</td>\n",
       "      <td>2024-01-01</td>\n",
       "      <td>18</td>\n",
       "      <td>37</td>\n",
       "      <td>7</td>\n",
       "      <td>3989.09</td>\n",
       "      <td>Table</td>\n",
       "      <td>Books</td>\n",
       "      <td>569.87</td>\n",
       "      <td>183</td>\n",
       "    </tr>\n",
       "    <tr>\n",
       "      <th>997</th>\n",
       "      <td>998</td>\n",
       "      <td>2023-11-25</td>\n",
       "      <td>167</td>\n",
       "      <td>40</td>\n",
       "      <td>9</td>\n",
       "      <td>4714.83</td>\n",
       "      <td>Where</td>\n",
       "      <td>Books</td>\n",
       "      <td>523.87</td>\n",
       "      <td>169</td>\n",
       "    </tr>\n",
       "    <tr>\n",
       "      <th>998</th>\n",
       "      <td>999</td>\n",
       "      <td>2023-10-24</td>\n",
       "      <td>4</td>\n",
       "      <td>8</td>\n",
       "      <td>4</td>\n",
       "      <td>487.76</td>\n",
       "      <td>Office</td>\n",
       "      <td>Electronics</td>\n",
       "      <td>121.94</td>\n",
       "      <td>472</td>\n",
       "    </tr>\n",
       "    <tr>\n",
       "      <th>999</th>\n",
       "      <td>1000</td>\n",
       "      <td>2023-05-20</td>\n",
       "      <td>184</td>\n",
       "      <td>46</td>\n",
       "      <td>7</td>\n",
       "      <td>3454.92</td>\n",
       "      <td>With</td>\n",
       "      <td>Electronics</td>\n",
       "      <td>493.56</td>\n",
       "      <td>457</td>\n",
       "    </tr>\n",
       "  </tbody>\n",
       "</table>\n",
       "<p>1000 rows × 10 columns</p>\n",
       "</div>"
      ],
      "text/plain": [
       "     SaleID        Date  CustomerID  ProductID  Quantity  TotalAmount  \\\n",
       "0         1  2023-09-12         118          1         7      4738.02   \n",
       "1         2  2023-05-12         178         45         9      5574.42   \n",
       "2         3  2023-01-22         165          4         9      2620.62   \n",
       "3         4  2023-09-09         154         47         8      6400.56   \n",
       "4         5  2023-01-12         165         25         2       930.42   \n",
       "..      ...         ...         ...        ...       ...          ...   \n",
       "995     996  2023-11-13         110         31         9      2529.81   \n",
       "996     997  2024-01-01          18         37         7      3989.09   \n",
       "997     998  2023-11-25         167         40         9      4714.83   \n",
       "998     999  2023-10-24           4          8         4       487.76   \n",
       "999    1000  2023-05-20         184         46         7      3454.92   \n",
       "\n",
       "    ProductName     Category   Price  StockQuantity  \n",
       "0         Story    Furniture  676.86            499  \n",
       "1        System    Furniture  619.38             13  \n",
       "2       Mission    Furniture  291.18            401  \n",
       "3         Smile     Clothing  800.07            176  \n",
       "4         Thank     Clothing  465.21            231  \n",
       "..          ...          ...     ...            ...  \n",
       "995   Operation  Electronics  281.09             47  \n",
       "996       Table        Books  569.87            183  \n",
       "997       Where        Books  523.87            169  \n",
       "998      Office  Electronics  121.94            472  \n",
       "999        With  Electronics  493.56            457  \n",
       "\n",
       "[1000 rows x 10 columns]"
      ]
     },
     "execution_count": 29,
     "metadata": {},
     "output_type": "execute_result"
    }
   ],
   "source": [
    "sales_products = sales.merge(products, on=\"ProductID\")\n",
    "sales_products"
   ]
  },
  {
   "cell_type": "code",
   "execution_count": 33,
   "id": "9945d34e-86a6-4a01-91f5-ebe41896d3a4",
   "metadata": {},
   "outputs": [
    {
     "data": {
      "text/plain": [
       "{'Mean': 2641.32634,\n",
       " 'Median': 2075.0,\n",
       " 'Variance': 3941856.3728198255,\n",
       " 'Standard Deviation': 1985.4108826184633}"
      ]
     },
     "execution_count": 33,
     "metadata": {},
     "output_type": "execute_result"
    }
   ],
   "source": [
    "descriptive_stats = {\n",
    "    \"Mean\": sales['TotalAmount'].mean(),\n",
    "    \"Median\": sales['TotalAmount'].median(),\n",
    "    \"Variance\": sales['TotalAmount'].var(),\n",
    "    \"Standard Deviation\": sales['TotalAmount'].std()\n",
    "}\n",
    "\n",
    "descriptive_stats\n"
   ]
  },
  {
   "cell_type": "code",
   "execution_count": null,
   "id": "569cf6d9-2a0d-4401-8359-f7a122703b0a",
   "metadata": {},
   "outputs": [],
   "source": []
  }
 ],
 "metadata": {
  "kernelspec": {
   "display_name": "Python 3 (ipykernel)",
   "language": "python",
   "name": "python3"
  },
  "language_info": {
   "codemirror_mode": {
    "name": "ipython",
    "version": 3
   },
   "file_extension": ".py",
   "mimetype": "text/x-python",
   "name": "python",
   "nbconvert_exporter": "python",
   "pygments_lexer": "ipython3",
   "version": "3.12.4"
  }
 },
 "nbformat": 4,
 "nbformat_minor": 5
}
